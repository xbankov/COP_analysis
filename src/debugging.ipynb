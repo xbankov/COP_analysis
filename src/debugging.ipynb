{
 "cells": [
  {
   "cell_type": "code",
   "execution_count": 1,
   "metadata": {},
   "outputs": [],
   "source": [
    "from utils.logger import setup_logger\n",
    "from selenium import webdriver\n",
    "from selenium.webdriver.chrome.options import Options\n",
    "from selenium.webdriver.chrome.service import Service\n",
    "from selenium.webdriver.common.by import By\n",
    "from selenium.webdriver.support.ui import WebDriverWait, Select\n",
    "from selenium.webdriver.support import expected_conditions as EC\n",
    "import config\n",
    "import time\n",
    "import bs4\n",
    "import re\n",
    "\n",
    "# Set up the logger\n",
    "logger = setup_logger()"
   ]
  },
  {
   "cell_type": "code",
   "execution_count": 3,
   "metadata": {},
   "outputs": [
    {
     "name": "stdout",
     "output_type": "stream",
     "text": [
      "Loading started\n",
      "Loading done\n",
      "50/74\n",
      "Loading started\n",
      "Loading done\n",
      "Done\n"
     ]
    }
   ],
   "source": [
    "# Set up Chrome options (optional: you can add more options as needed)\n",
    "chrome_options = Options()\n",
    "# chrome_options.add_argument(\"--headless\")  # Run Chrome in headless mode (no GUI)\n",
    "chrome_service = Service(\"/home/xbankov/COP_analysis/chromedriver-linux64/chromedriver\")\n",
    "\n",
    "# Initialize the Chrome brexecutable_pathowser\n",
    "driver = webdriver.Chrome(service=chrome_service, options=chrome_options)\n",
    "driver.implicitly_wait(20)\n",
    "\n",
    "# Replace with the URL you want to open\n",
    "url_to_open = config.TEST_URL\n",
    "\n",
    "# Open the URL\n",
    "driver.get(url_to_open)\n",
    "\n",
    "items_per_page_button = driver.find_element(By.ID, \"edit-items-per-page--4\")\n",
    "select = Select(items_per_page_button)\n",
    "last_index = len(select.options) - 1\n",
    "select.select_by_index(last_index)\n",
    "\n",
    "loading_div = WebDriverWait(driver, 30).until(\n",
    "    EC.presence_of_element_located((By.CSS_SELECTOR, \"div.ajax-progress\"))\n",
    ")\n",
    "print(\"Loading started\")\n",
    "# Wait until the div element disappears\n",
    "WebDriverWait(driver, 30).until(EC.staleness_of(loading_div))\n",
    "print(\"Loading done\")\n",
    "\n",
    "total_documents = int(\n",
    "    driver.find_elements(By.CSS_SELECTOR, \"span.totalresults\")[-1].text\n",
    ")\n",
    "shown_documents = int(driver.find_elements(By.CSS_SELECTOR, \"span.endresults\")[-1].text)\n",
    "\n",
    "while shown_documents < total_documents:\n",
    "    print(f\"{shown_documents}/{total_documents}\")\n",
    "\n",
    "    driver.execute_script(\"window.scrollTo(0, document.body.scrollHeight);\")\n",
    "    time.sleep(3)\n",
    "\n",
    "    load_more_button = driver.find_element(\n",
    "        By.CSS_SELECTOR,\n",
    "        'div.block-views-block-documents-block-1 a.button[title=\"Load more items\"]',\n",
    "    )\n",
    "    load_more_button.click()\n",
    "\n",
    "    loading_div = WebDriverWait(driver, 30).until(\n",
    "        EC.presence_of_element_located((By.CSS_SELECTOR, \"div.ajax-progress\"))\n",
    "    )\n",
    "    print(\"Loading started\")\n",
    "    # Wait until the div element disappears\n",
    "    WebDriverWait(driver, 30).until(EC.staleness_of(loading_div))\n",
    "    print(\"Loading done\")\n",
    "\n",
    "    shown_documents = int(\n",
    "        driver.find_element(\n",
    "            By.CSS_SELECTOR, \"div.block-views-block-documents-block-1 span.endresults\"\n",
    "        ).text\n",
    "    )\n",
    "print(\"Done\")\n",
    "html_content = driver.page_source"
   ]
  },
  {
   "cell_type": "code",
   "execution_count": 456,
   "metadata": {},
   "outputs": [],
   "source": [
    "html_content = driver.page_source\n",
    "soup = bs4.BeautifulSoup(html_content)\n",
    "documents = soup.find_all(\"tr\")[1:]"
   ]
  },
  {
   "cell_type": "code",
   "execution_count": 457,
   "metadata": {},
   "outputs": [
    {
     "data": {
      "text/plain": [
       "310"
      ]
     },
     "execution_count": 457,
     "metadata": {},
     "output_type": "execute_result"
    }
   ],
   "source": [
    "len(documents)"
   ]
  },
  {
   "cell_type": "code",
   "execution_count": 458,
   "metadata": {},
   "outputs": [],
   "source": [
    "def get_eng_url_from_td(td):\n",
    "    select_element = td.select_one(\".select-wrapper select\")\n",
    "    english_option = select_element.find(\n",
    "        \"option\", string=re.compile(\"english\", re.IGNORECASE)\n",
    "    )\n",
    "    return english_option[\"value\"]"
   ]
  },
  {
   "cell_type": "code",
   "execution_count": 461,
   "metadata": {},
   "outputs": [],
   "source": [
    "document = documents[-1]\n",
    "cols = document.find_all(\"td\")\n",
    "title = cols[1].getText().strip().replace(\" \", \"_\")\n",
    "download_url = get_eng_url_from_td(cols[4])"
   ]
  },
  {
   "cell_type": "code",
   "execution_count": 462,
   "metadata": {},
   "outputs": [
    {
     "name": "stdout",
     "output_type": "stream",
     "text": [
      "Draft_report_of_the_Subsidiary_Body_for_Scientific_and_Technological_Advice_on_its_fifty-second_to_fifty-fifth_session\n",
      "https://unfccc.int/sites/default/files/resource/sbsta2021_L01_E.pdf\n"
     ]
    }
   ],
   "source": [
    "print(title) \n",
    "print(download_url)"
   ]
  },
  {
   "cell_type": "code",
   "execution_count": 463,
   "metadata": {},
   "outputs": [],
   "source": [
    "import requests"
   ]
  },
  {
   "cell_type": "code",
   "execution_count": 130,
   "metadata": {},
   "outputs": [
    {
     "name": "stdout",
     "output_type": "stream",
     "text": [
      "Downloaded: https://unfccc.int/sites/default/files/resource/cp2023_L10r01E.pdf\n"
     ]
    }
   ],
   "source": [
    "headers = {\n",
    "    'User-Agent': 'Mozilla/5.0 (X11; Linux x86_64) AppleWebKit/537.36 (KHTML, like Gecko) Chrome/120.0.0.0 Safari/537.3',\n",
    "}\n",
    "response = requests.get(download_url, headers=headers)\n",
    "\n",
    "if response.status_code == 200:\n",
    "    # Save the PDF content to a local file\n",
    "    with open(f\"{download_url.split('/')[-1]}\", 'wb') as pdf_file:\n",
    "        pdf_file.write(response.content)\n",
    "    print(f\"Downloaded: {download_url}\")\n",
    "else:\n",
    "    print(f\"Failed to download: {download_url}\")"
   ]
  }
 ],
 "metadata": {
  "kernelspec": {
   "display_name": "copscraper",
   "language": "python",
   "name": "python3"
  },
  "language_info": {
   "codemirror_mode": {
    "name": "ipython",
    "version": 3
   },
   "file_extension": ".py",
   "mimetype": "text/x-python",
   "name": "python",
   "nbconvert_exporter": "python",
   "pygments_lexer": "ipython3",
   "version": "3.12.0"
  }
 },
 "nbformat": 4,
 "nbformat_minor": 2
}
