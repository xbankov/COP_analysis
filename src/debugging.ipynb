{
 "cells": [
  {
   "cell_type": "code",
   "execution_count": 8,
   "metadata": {},
   "outputs": [],
   "source": [
    "# src/parse_table.py\n",
    "from utils.logger import setup_logger\n",
    "from utils.helpers import setup_driver\n",
    "from selenium.webdriver.common.by import By\n",
    "from selenium.webdriver.support.ui import Select\n",
    "from scrapers.cop_scraper import wait_for_loading\n",
    "import time\n",
    "import config\n",
    "import time\n",
    "\n",
    "logger = setup_logger()"
   ]
  },
  {
   "cell_type": "code",
   "execution_count": 9,
   "metadata": {},
   "outputs": [],
   "source": [
    "url_to_open = config.PRODUCTION_URL\n",
    "driver = setup_driver(config.DRIVER_PATH, config.HEADLESS)\n",
    "\n",
    "driver.get(url_to_open)"
   ]
  },
  {
   "cell_type": "code",
   "execution_count": 10,
   "metadata": {},
   "outputs": [
    {
     "name": "stderr",
     "output_type": "stream",
     "text": [
      "INFO: Loading started\n",
      "INFO: Loading started\n",
      "INFO: Loading started\n",
      "INFO: Loading done\n",
      "INFO: Loading done\n",
      "INFO: Loading done\n"
     ]
    }
   ],
   "source": [
    "items_per_page_button = driver.find_element(By.ID, \"edit-items-per-page--3\")\n",
    "select = Select(items_per_page_button)\n",
    "last_index = len(select.options) - 1\n",
    "select.select_by_index(last_index)\n",
    "\n",
    "wait_for_loading(driver)"
   ]
  },
  {
   "cell_type": "code",
   "execution_count": 11,
   "metadata": {},
   "outputs": [],
   "source": [
    "total_documents = int(\n",
    "    driver.find_elements(By.CSS_SELECTOR, \"span.totalresults\")[-1].text\n",
    ")\n",
    "shown_documents = int(driver.find_elements(By.CSS_SELECTOR, \"span.endresults\")[-1].text)"
   ]
  },
  {
   "cell_type": "code",
   "execution_count": null,
   "metadata": {},
   "outputs": [],
   "source": []
  },
  {
   "cell_type": "code",
   "execution_count": 3,
   "metadata": {},
   "outputs": [],
   "source": [
    "while shown_documents < total_documents:\n",
    "    logger.info(f\"{shown_documents}/{total_documents}\")\n",
    "\n",
    "    driver.execute_script(\"window.scrollTo(0, document.body.scrollHeight);\")\n",
    "    time.sleep(3)\n",
    "\n",
    "    load_more_button = driver.find_element(\n",
    "        By.CSS_SELECTOR,\n",
    "        'div.block-views-blockdecisions-block-1 a.button[title=\"Load more items\"]',\n",
    "    )\n",
    "    load_more_button.click()\n",
    "\n",
    "    wait_for_loading(driver)\n",
    "\n",
    "    shown_documents = int(\n",
    "        driver.find_element(\n",
    "            By.CSS_SELECTOR,\n",
    "            \"div.block-views-blockdecisions-block-1 span.endresults\",\n",
    "        ).text\n",
    "    )\n",
    "logger.info(\"All documents loaded\")"
   ]
  },
  {
   "cell_type": "code",
   "execution_count": null,
   "metadata": {},
   "outputs": [],
   "source": []
  }
 ],
 "metadata": {
  "kernelspec": {
   "display_name": "copscraper",
   "language": "python",
   "name": "python3"
  },
  "language_info": {
   "codemirror_mode": {
    "name": "ipython",
    "version": 3
   },
   "file_extension": ".py",
   "mimetype": "text/x-python",
   "name": "python",
   "nbconvert_exporter": "python",
   "pygments_lexer": "ipython3",
   "version": "3.11.5"
  }
 },
 "nbformat": 4,
 "nbformat_minor": 2
}
