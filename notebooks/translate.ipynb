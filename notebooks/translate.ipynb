{
 "cells": [
  {
   "cell_type": "code",
   "execution_count": 1,
   "metadata": {},
   "outputs": [],
   "source": [
    "import stanza\n",
    "from transformers import MarianTokenizer, MarianMTModel\n",
    "\n",
    "LANGUAGE_TO_CODE = {\n",
    "    \"afrikaans\": \"af\",\n",
    "    \"albanian\": \"sq\",\n",
    "    \"amharic\": \"am\",\n",
    "    \"arabic\": \"ar\",\n",
    "    \"armenian\": \"hy\",\n",
    "    \"assamese\": \"as\",\n",
    "    \"aymara\": \"ay\",\n",
    "    \"azerbaijani\": \"az\",\n",
    "    \"bambara\": \"bm\",\n",
    "    \"basque\": \"eu\",\n",
    "    \"belarusian\": \"be\",\n",
    "    \"bengali\": \"bn\",\n",
    "    \"bhojpuri\": \"bho\",\n",
    "    \"bosnian\": \"bs\",\n",
    "    \"bulgarian\": \"bg\",\n",
    "    \"catalan\": \"ca\",\n",
    "    \"cebuano\": \"ceb\",\n",
    "    \"chichewa\": \"ny\",\n",
    "    \"chinese (simplified)\": \"zh-CN\",\n",
    "    \"chinese (traditional)\": \"zh-TW\",\n",
    "    \"corsican\": \"co\",\n",
    "    \"croatian\": \"hr\",\n",
    "    \"czech\": \"cs\",\n",
    "    \"danish\": \"da\",\n",
    "    \"dhivehi\": \"dv\",\n",
    "    \"dogri\": \"doi\",\n",
    "    \"dutch\": \"nl\",\n",
    "    \"english\": \"en\",\n",
    "    \"esperanto\": \"eo\",\n",
    "    \"estonian\": \"et\",\n",
    "    \"ewe\": \"ee\",\n",
    "    \"filipino\": \"tl\",\n",
    "    \"finnish\": \"fi\",\n",
    "    \"french\": \"fr\",\n",
    "    \"frisian\": \"fy\",\n",
    "    \"galician\": \"gl\",\n",
    "    \"georgian\": \"ka\",\n",
    "    \"german\": \"de\",\n",
    "    \"greek\": \"el\",\n",
    "    \"guarani\": \"gn\",\n",
    "    \"gujarati\": \"gu\",\n",
    "    \"haitian creole\": \"ht\",\n",
    "    \"hausa\": \"ha\",\n",
    "    \"hawaiian\": \"haw\",\n",
    "    \"hebrew\": \"iw\",\n",
    "    \"hindi\": \"hi\",\n",
    "    \"hmong\": \"hmn\",\n",
    "    \"hungarian\": \"hu\",\n",
    "    \"icelandic\": \"is\",\n",
    "    \"igbo\": \"ig\",\n",
    "    \"ilocano\": \"ilo\",\n",
    "    \"indonesian\": \"id\",\n",
    "    \"irish\": \"ga\",\n",
    "    \"italian\": \"it\",\n",
    "    \"japanese\": \"ja\",\n",
    "    \"javanese\": \"jw\",\n",
    "    \"kannada\": \"kn\",\n",
    "    \"kazakh\": \"kk\",\n",
    "    \"khmer\": \"km\",\n",
    "    \"kinyarwanda\": \"rw\",\n",
    "    \"konkani\": \"gom\",\n",
    "    \"korean\": \"ko\",\n",
    "    \"krio\": \"kri\",\n",
    "    \"kurdish (kurmanji)\": \"ku\",\n",
    "    \"kurdish (sorani)\": \"ckb\",\n",
    "    \"kyrgyz\": \"ky\",\n",
    "    \"lao\": \"lo\",\n",
    "    \"latin\": \"la\",\n",
    "    \"latvian\": \"lv\",\n",
    "    \"lingala\": \"ln\",\n",
    "    \"lithuanian\": \"lt\",\n",
    "    \"luganda\": \"lg\",\n",
    "    \"luxembourgish\": \"lb\",\n",
    "    \"macedonian\": \"mk\",\n",
    "    \"maithili\": \"mai\",\n",
    "    \"malagasy\": \"mg\",\n",
    "    \"malay\": \"ms\",\n",
    "    \"malayalam\": \"ml\",\n",
    "    \"maltese\": \"mt\",\n",
    "    \"maori\": \"mi\",\n",
    "    \"marathi\": \"mr\",\n",
    "    \"meiteilon (manipuri)\": \"mni-Mtei\",\n",
    "    \"mizo\": \"lus\",\n",
    "    \"mongolian\": \"mn\",\n",
    "    \"myanmar\": \"my\",\n",
    "    \"nepali\": \"ne\",\n",
    "    \"norwegian\": \"no\",\n",
    "    \"odia (oriya)\": \"or\",\n",
    "    \"oromo\": \"om\",\n",
    "    \"pashto\": \"ps\",\n",
    "    \"persian\": \"fa\",\n",
    "    \"polish\": \"pl\",\n",
    "    \"portuguese\": \"pt\",\n",
    "    \"punjabi\": \"pa\",\n",
    "    \"quechua\": \"qu\",\n",
    "    \"romanian\": \"ro\",\n",
    "    \"russian\": \"ru\",\n",
    "    \"samoan\": \"sm\",\n",
    "    \"sanskrit\": \"sa\",\n",
    "    \"scots gaelic\": \"gd\",\n",
    "    \"sepedi\": \"nso\",\n",
    "    \"serbian\": \"sr\",\n",
    "    \"sesotho\": \"st\",\n",
    "    \"shona\": \"sn\",\n",
    "    \"sindhi\": \"sd\",\n",
    "    \"sinhala\": \"si\",\n",
    "    \"slovak\": \"sk\",\n",
    "    \"slovenian\": \"sl\",\n",
    "    \"somali\": \"so\",\n",
    "    \"spanish\": \"es\",\n",
    "    \"sundanese\": \"su\",\n",
    "    \"swahili\": \"sw\",\n",
    "    \"swedish\": \"sv\",\n",
    "    \"tajik\": \"tg\",\n",
    "    \"tamil\": \"ta\",\n",
    "    \"tatar\": \"tt\",\n",
    "    \"telugu\": \"te\",\n",
    "    \"thai\": \"th\",\n",
    "    \"tigrinya\": \"ti\",\n",
    "    \"tsonga\": \"ts\",\n",
    "    \"turkish\": \"tr\",\n",
    "    \"turkmen\": \"tk\",\n",
    "    \"twi\": \"ak\",\n",
    "    \"ukrainian\": \"uk\",\n",
    "    \"urdu\": \"ur\",\n",
    "    \"uyghur\": \"ug\",\n",
    "    \"uzbek\": \"uz\",\n",
    "    \"vietnamese\": \"vi\",\n",
    "    \"welsh\": \"cy\",\n",
    "    \"xhosa\": \"xh\",\n",
    "    \"yiddish\": \"yi\",\n",
    "    \"yoruba\": \"yo\",\n",
    "    \"zulu\": \"zu\",\n",
    "}\n"
   ]
  },
  {
   "cell_type": "code",
   "execution_count": 2,
   "metadata": {},
   "outputs": [],
   "source": [
    "source_language = \"spanish\"\n",
    "target_language = \"english\""
   ]
  },
  {
   "cell_type": "code",
   "execution_count": 3,
   "metadata": {},
   "outputs": [
    {
     "data": {
      "application/vnd.jupyter.widget-view+json": {
       "model_id": "0ca3a59331f3459f8bd3e44199d9a161",
       "version_major": 2,
       "version_minor": 0
      },
      "text/plain": [
       "Downloading https://raw.githubusercontent.com/stanfordnlp/stanza-resources/main/resources_1.7.0.json:   0%|   …"
      ]
     },
     "metadata": {},
     "output_type": "display_data"
    },
    {
     "name": "stderr",
     "output_type": "stream",
     "text": [
      "2024-02-03 16:30:04 INFO: \"spanish\" is an alias for \"es\"\n",
      "2024-02-03 16:30:04 INFO: Downloading default packages for language: es (Spanish) ...\n",
      "2024-02-03 16:30:05 INFO: File exists: /home/xbankov/stanza_resources/es/default.zip\n",
      "2024-02-03 16:30:10 INFO: Finished downloading models and saved to /home/xbankov/stanza_resources.\n",
      "2024-02-03 16:30:10 INFO: Checking for updates to resources.json in case models have been updated.  Note: this behavior can be turned off with download_method=None or download_method=DownloadMethod.REUSE_RESOURCES\n"
     ]
    },
    {
     "data": {
      "application/vnd.jupyter.widget-view+json": {
       "model_id": "991448adbfb54318ab0ef15d32074f5a",
       "version_major": 2,
       "version_minor": 0
      },
      "text/plain": [
       "Downloading https://raw.githubusercontent.com/stanfordnlp/stanza-resources/main/resources_1.7.0.json:   0%|   …"
      ]
     },
     "metadata": {},
     "output_type": "display_data"
    },
    {
     "name": "stderr",
     "output_type": "stream",
     "text": [
      "2024-02-03 16:30:10 INFO: \"spanish\" is an alias for \"es\"\n",
      "2024-02-03 16:30:11 INFO: Loading these models for language: es (Spanish):\n",
      "==================================\n",
      "| Processor    | Package         |\n",
      "----------------------------------\n",
      "| tokenize     | ancora          |\n",
      "| mwt          | ancora          |\n",
      "| pos          | ancora_charlm   |\n",
      "| lemma        | ancora_nocharlm |\n",
      "| constituency | combined_charlm |\n",
      "| depparse     | ancora_charlm   |\n",
      "| sentiment    | tass2020        |\n",
      "| ner          | conll02         |\n",
      "==================================\n",
      "\n",
      "2024-02-03 16:30:11 INFO: Using device: cpu\n",
      "2024-02-03 16:30:11 INFO: Loading: tokenize\n",
      "2024-02-03 16:30:12 INFO: Loading: mwt\n",
      "2024-02-03 16:30:12 INFO: Loading: pos\n",
      "2024-02-03 16:30:12 INFO: Loading: lemma\n",
      "2024-02-03 16:30:12 INFO: Loading: constituency\n",
      "2024-02-03 16:30:13 INFO: Loading: depparse\n",
      "2024-02-03 16:30:13 INFO: Loading: sentiment\n",
      "2024-02-03 16:30:13 INFO: Loading: ner\n",
      "2024-02-03 16:30:14 INFO: Done loading processors!\n"
     ]
    }
   ],
   "source": [
    "stanza.download(source_language)\n",
    "nlp = stanza.Pipeline(source_language)"
   ]
  },
  {
   "cell_type": "code",
   "execution_count": 4,
   "metadata": {},
   "outputs": [
    {
     "name": "stderr",
     "output_type": "stream",
     "text": [
      "/home/xbankov/miniconda3/envs/copscraper/lib/python3.11/site-packages/transformers/models/marian/tokenization_marian.py:197: UserWarning: Recommended: pip install sacremoses.\n",
      "  warnings.warn(\"Recommended: pip install sacremoses.\")\n"
     ]
    }
   ],
   "source": [
    "source_code = LANGUAGE_TO_CODE[source_language]\n",
    "target_code = LANGUAGE_TO_CODE[target_language]\n",
    "\n",
    "model_name = f\"Helsinki-NLP/opus-mt-{source_code}-{target_code}\"\n",
    "\n",
    "model = MarianMTModel.from_pretrained(model_name)\n",
    "tokenizer = MarianTokenizer.from_pretrained(model_name)"
   ]
  },
  {
   "cell_type": "code",
   "execution_count": null,
   "metadata": {},
   "outputs": [],
   "source": [
    "text = \"https://unfccc.int/sites/default/files/resource/ARGENTINA_cop24cmp14cma1-3_SP.pdf\""
   ]
  },
  {
   "cell_type": "code",
   "execution_count": null,
   "metadata": {},
   "outputs": [],
   "source": []
  },
  {
   "cell_type": "code",
   "execution_count": null,
   "metadata": {},
   "outputs": [],
   "source": [
    "# Break the text into sentences\n",
    "sentences = nlp(text).sentences\n",
    "\n",
    "# Translate each sentence individually\n",
    "translated_sentences = []\n",
    "for sentence in tqdm():\n",
    "    batch = tokenizer.prepare_seq2seq_batch(src_texts=[sentence.text])\n",
    "    gen = model.generate(**batch)\n",
    "    words = tokenizer.batch_decode(gen, skip_special_tokens=True)\n",
    "\n",
    "    translated_sentences.append(words)\n",
    "\n",
    "# Join the translated sentences back together\n",
    "translated_text = \" \".join(translated_sentences)"
   ]
  }
 ],
 "metadata": {
  "kernelspec": {
   "display_name": "copscraper",
   "language": "python",
   "name": "python3"
  },
  "language_info": {
   "codemirror_mode": {
    "name": "ipython",
    "version": 3
   },
   "file_extension": ".py",
   "mimetype": "text/x-python",
   "name": "python",
   "nbconvert_exporter": "python",
   "pygments_lexer": "ipython3",
   "version": "3.11.5"
  }
 },
 "nbformat": 4,
 "nbformat_minor": 2
}
